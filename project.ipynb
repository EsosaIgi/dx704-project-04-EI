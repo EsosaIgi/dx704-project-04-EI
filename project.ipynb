{
  "cells": [
    {
      "cell_type": "markdown",
      "metadata": {
        "id": "Md413FzAvFD8"
      },
      "source": [
        "# DX 704 Week 4 Project\n",
        "\n",
        "This week's project will test the learning speed of linear contextual bandits compared to unoptimized approaches.\n",
        "You will start with building a preference data set for evaluation, and then implement different variations of LinUCB and visualize how fast they learn the preferences.\n"
      ]
    },
    {
      "cell_type": "markdown",
      "metadata": {
        "id": "D3gs-tquuzJe"
      },
      "source": [
        "The full project description, a template notebook and supporting code are available on GitHub: [Project 4 Materials](https://github.com/bu-cds-dx704/dx704-project-04).\n"
      ]
    },
    {
      "cell_type": "markdown",
      "metadata": {
        "id": "OguIjc5idW3Z"
      },
      "source": [
        "## Example Code\n",
        "\n",
        "You may find it helpful to refer to these GitHub repositories of Jupyter notebooks for example code.\n",
        "\n",
        "* https://github.com/bu-cds-omds/dx601-examples\n",
        "* https://github.com/bu-cds-omds/dx602-examples\n",
        "* https://github.com/bu-cds-omds/dx603-examples\n",
        "* https://github.com/bu-cds-omds/dx704-examples\n",
        "\n",
        "Any calculations demonstrated in code examples or videos may be found in these notebooks, and you are allowed to copy this example code in your homework answers."
      ]
    },
    {
      "cell_type": "markdown",
      "metadata": {
        "id": "C8oSLkMqvMFF"
      },
      "source": [
        "## Part 1: Collect Rating Data\n",
        "\n",
        "The file \"recipes.tsv\" in this repository has information about 100 recipes.\n",
        "Make a new file \"ratings.tsv\" with two columns, recipe_slug (from recipes.tsv) and rating.\n",
        "Populate the rating column with values between 0 and 1 where 0 is the worst and 1 is the best.\n",
        "You can assign these ratings however you want within that range, but try to make it reflect a consistent set of preferences.\n",
        "These could be your preferences, or a persona of your choosing (e.g. chocolate lover, bacon-obsessed, or sweet tooth).\n",
        "Make sure that there are at least 10 ratings of zero and at least 10 ratings of one.\n"
      ]
    },
    {
      "cell_type": "markdown",
      "metadata": {
        "id": "kAwViBgKfWER"
      },
      "source": [
        "Hint: You may find it more convenient to assign raw ratings from 1 to 5 and then remap them as follows.\n",
        "\n",
        "`ratings[\"rating\"] = (ratings[\"rating_raw\"] - 1) * 0.25`"
      ]
    },
    {
      "cell_type": "code",
      "execution_count": 13,
      "metadata": {},
      "outputs": [
        {
          "name": "stdout",
          "output_type": "stream",
          "text": [
            "Wrote ratings.tsv with shape: (100, 2)\n",
            "        recipe_slug  rating\n",
            "0           falafel     0.0\n",
            "1        spamburger     1.0\n",
            "2  bacon-fried-rice     1.0\n",
            "3   chicken-fingers     0.5\n",
            "4       apple-crisp     0.5\n"
          ]
        }
      ],
      "source": [
        "import pandas as pd\n",
        "from pathlib import Path\n",
        "\n",
        "RECIPES_PATH = Path(\"recipes.tsv\")\n",
        "TAGS_PATH    = Path(\"recipe-tags.tsv\")\n",
        "\n",
        "recipes = pd.read_csv(RECIPES_PATH, sep=\"\\t\")\n",
        "tags    = pd.read_csv(TAGS_PATH,    sep=\"\\t\")\n",
        "\n",
        "# Persona preferences\n",
        "liked    = {\"chocolate\", \"bacon\", \"spam\", \"cheese\"}\n",
        "disliked = {\"kale\", \"quinoa\", \"vegan\", \"salad\"}\n",
        "\n",
        "# Build mapping: recipe_slug -> set of tags (avoid fillna with set())\n",
        "tags_map = tags.groupby(\"recipe_slug\")[\"recipe_tag\"].apply(set).to_dict()\n",
        "\n",
        "def score(slug: str) -> float:\n",
        "    t = tags_map.get(slug, set())\n",
        "    s = 0.5\n",
        "    if liked & t:\n",
        "        s += 0.5\n",
        "    if disliked & t:\n",
        "        s -= 0.5\n",
        "    return float(min(1.0, max(0.0, s)))\n",
        "\n",
        "ratings = recipes[[\"recipe_slug\"]].copy()\n",
        "ratings[\"rating\"] = ratings[\"recipe_slug\"].apply(score)\n",
        "\n",
        "# Ensure at least 10 zeros and 10 ones (deterministic tie-breaking)\n",
        "need_ones  = max(0, 10 - int((ratings[\"rating\"] == 1.0).sum()))\n",
        "need_zeros = max(0, 10 - int((ratings[\"rating\"] == 0.0).sum()))\n",
        "if need_zeros or need_ones:\n",
        "    # stable ranking: by score then by original order\n",
        "    tmp = ratings.assign(_ord=range(len(ratings))).sort_values([\"rating\",\"_ord\"])\n",
        "    if need_zeros:\n",
        "        idx0 = tmp.index[:need_zeros]\n",
        "        ratings.loc[idx0, \"rating\"] = 0.0\n",
        "    if need_ones:\n",
        "        idx1 = tmp.index[-need_ones:]\n",
        "        ratings.loc[idx1, \"rating\"] = 1.0\n",
        "\n",
        "ratings.to_csv(\"ratings.tsv\", sep=\"\\t\", index=False)\n",
        "print(\"Wrote ratings.tsv with shape:\", ratings.shape)\n",
        "print(ratings.head())\n"
      ]
    },
    {
      "cell_type": "markdown",
      "metadata": {
        "id": "Eh7UaX6OvuWo"
      },
      "source": [
        "Submit \"ratings.tsv\" in Gradescope."
      ]
    },
    {
      "cell_type": "markdown",
      "metadata": {
        "id": "NiCwaZwr5M67"
      },
      "source": [
        "## Part 2: Construct Model Input\n",
        "\n",
        "Use your file \"ratings.tsv\" combined with \"recipe-tags.tsv\" to create a new file \"features.tsv\" with a column recipe_slug, a column bias which is hard-coded to one, and a column for each tag that appears in \"recipe-tags.tsv\".\n",
        "The tag column in this file should be a 0-1 encoding of the recipe tags for each recipe.\n",
        "[Pandas reshaping function methods](https://pandas.pydata.org/docs/user_guide/reshaping.html) may be helpful."
      ]
    },
    {
      "cell_type": "markdown",
      "metadata": {
        "id": "8WWi_JJXocEb"
      },
      "source": [
        "The bias column will make later LinUCB calculations easier since it will just be another dimension."
      ]
    },
    {
      "cell_type": "markdown",
      "metadata": {
        "id": "MHR-BsD9539j"
      },
      "source": [
        "Hint: For later modeling steps, it will be important to have the feature data (inputs) and the rating data (target outputs) in the same order.\n",
        "It is highly recommended to make sure that \"features.tsv\" and \"ratings.tsv\" have the recipe slugs in the same order."
      ]
    },
    {
      "cell_type": "code",
      "execution_count": 14,
      "metadata": {
        "id": "cGvj258d8nnv"
      },
      "outputs": [
        {
          "name": "stdout",
          "output_type": "stream",
          "text": [
            "Wrote features.tsv with shape: (100, 298)\n",
            "        recipe_slug  bias  alfredo  almond  american  appetizer  appetizers  \\\n",
            "0           falafel   1.0        0       0         0          1           0   \n",
            "1        spamburger   1.0        0       0         0          0           0   \n",
            "2  bacon-fried-rice   1.0        0       0         0          0           0   \n",
            "\n",
            "   apple  asiancuisine  asparagus  \n",
            "0      0             0          0  \n",
            "1      0             0          0  \n",
            "2      0             0          0  \n"
          ]
        }
      ],
      "source": [
        "import pandas as pd\n",
        "\n",
        "recipes = pd.read_csv(\"recipes.tsv\", sep=\"\\t\")\n",
        "tags = pd.read_csv(\"recipe-tags.tsv\", sep=\"\\t\")\n",
        "ratings = pd.read_csv(\"ratings.tsv\", sep=\"\\t\")\n",
        "\n",
        "# one-hot encode recipe_tag per recipe_slug\n",
        "tag_matrix = (\n",
        "    pd.crosstab(tags[\"recipe_slug\"], tags[\"recipe_tag\"])\n",
        "    .reindex(recipes[\"recipe_slug\"], fill_value=0)\n",
        ")\n",
        "\n",
        "# add bias column = 1.0\n",
        "features = tag_matrix.reset_index().rename_axis(None, axis=1)\n",
        "features.insert(1, \"bias\", 1.0)  # after recipe_slug\n",
        "features.rename(columns={\"index\":\"recipe_slug\"}, inplace=True)\n",
        "\n",
        "# ensure same ordering as ratings.tsv (important)\n",
        "features = features.set_index(\"recipe_slug\").reindex(ratings[\"recipe_slug\"]).reset_index()\n",
        "\n",
        "# save\n",
        "features.to_csv(\"features.tsv\", sep=\"\\t\", index=False)\n",
        "print(\"Wrote features.tsv with shape:\", features.shape)\n",
        "print(features.iloc[:3, :10])  # preview first few columns\n"
      ]
    },
    {
      "cell_type": "markdown",
      "metadata": {
        "id": "w63ji-Oi6oH7"
      },
      "source": [
        "Submit \"features.tsv\" in Gradescope."
      ]
    },
    {
      "cell_type": "markdown",
      "metadata": {
        "id": "4TeXvznlwJzo"
      },
      "source": [
        "## Part 3: Linear Preference Model\n",
        "\n",
        "Use your feature and rating files to build a ridge regression model with ridge regression's regularization parameter $\\alpha$ set to 1.\n"
      ]
    },
    {
      "cell_type": "markdown",
      "metadata": {
        "id": "aVlUnVv4oDIk"
      },
      "source": [
        "Hint: If you are using scikit-learn modeling classes, you should use `fit_intercept=False` since that intercept value will be redundant with the bias coefficient."
      ]
    },
    {
      "cell_type": "markdown",
      "metadata": {
        "id": "NLrBu-z7A45W"
      },
      "source": [
        "Hint: The estimate component of the bounds should match the previous estimate, so you should be able to just focus on the variance component of the bounds now."
      ]
    },
    {
      "cell_type": "code",
      "execution_count": 21,
      "metadata": {
        "id": "dxtiRunPwPYz"
      },
      "outputs": [],
      "source": [
        "# YOUR CHANGES HERE\n",
        "# Part 3 — Save `model.tsv` (recipe_tag, coefficient)\n",
        "\n",
        "import pandas as pd\n",
        "import numpy as np\n",
        "from sklearn.linear_model import Ridge\n",
        "\n",
        "features = pd.read_csv(\"features.tsv\", sep=\"\\t\")\n",
        "ratings  = pd.read_csv(\"ratings.tsv\",  sep=\"\\t\")\n",
        "\n",
        "X_cols = features.drop(columns=[\"recipe_slug\"]).columns\n",
        "\n",
        "def ensure_series(theta_like) -> pd.Series:\n",
        "    \"\"\"Return coefficients as a pandas Series aligned to X_cols.\"\"\"\n",
        "    if isinstance(theta_like, pd.Series):\n",
        "        # Reindex to X_cols just in case\n",
        "        return theta_like.reindex(X_cols)\n",
        "    # Handle numpy array / list / tuple\n",
        "    arr = np.asarray(theta_like).ravel()\n",
        "    if arr.shape[0] != len(X_cols):\n",
        "        raise ValueError(f\"Coefficient length {arr.shape[0]} != number of features {len(X_cols)}\")\n",
        "    return pd.Series(arr, index=X_cols, name=\"coefficient\")\n",
        "\n",
        "# Try to use theta_hat from the previous cell; otherwise recompute quickly\n",
        "try:\n",
        "    theta_series = ensure_series(theta_hat)  # may NameError if not defined\n",
        "except NameError:\n",
        "    X = features.drop(columns=[\"recipe_slug\"]).values\n",
        "    y = ratings.set_index(\"recipe_slug\").loc[features[\"recipe_slug\"], \"rating\"].values\n",
        "    ridge = Ridge(alpha=1.0, fit_intercept=False, random_state=0)\n",
        "    ridge.fit(X, y)\n",
        "    theta_series = ensure_series(ridge.coef_)\n",
        "\n"
      ]
    },
    {
      "cell_type": "markdown",
      "metadata": {
        "id": "fw9LaHF_8tsA"
      },
      "source": [
        "Save the coefficients of this model in a file \"model.tsv\" with columns \"recipe_tag\" and \"coefficient\".\n",
        "Do not add anything for the `intercept_` attribute of a scikit-learn model; this will be covered by the coefficient for the bias column added in part 2."
      ]
    },
    {
      "cell_type": "code",
      "execution_count": 22,
      "metadata": {
        "id": "fiMBlU4L8uSR"
      },
      "outputs": [
        {
          "name": "stdout",
          "output_type": "stream",
          "text": [
            "Wrote model.tsv with 297 rows.\n",
            "  recipe_tag  coefficient\n",
            "0       bias     0.433737\n",
            "1    alfredo    -0.007756\n",
            "2     almond    -0.015128\n",
            "3   american     0.000796\n",
            "4  appetizer     0.034916\n"
          ]
        }
      ],
      "source": [
        "# Save model.tsv\n",
        "model_df = theta_series.reset_index()\n",
        "model_df.columns = [\"recipe_tag\", \"coefficient\"]\n",
        "model_df.to_csv(\"model.tsv\", sep=\"\\t\", index=False)\n",
        "\n",
        "print(\"Wrote model.tsv with\", len(model_df), \"rows.\")\n",
        "print(model_df.head())"
      ]
    },
    {
      "cell_type": "markdown",
      "metadata": {
        "id": "86uS_zZ0wQxC"
      },
      "source": [
        "Submit \"model.tsv\" in Gradescope."
      ]
    },
    {
      "cell_type": "markdown",
      "metadata": {
        "id": "B1Nfs7zCsDpj"
      },
      "source": [
        "## Part 4: Recipe Estimates\n",
        "\n",
        "Use the recipe model to estimate the score of every recipe.\n",
        "Save these estimates to a file \"estimates.tsv\" with columns recipe_slug and score_estimate."
      ]
    },
    {
      "cell_type": "code",
      "execution_count": 23,
      "metadata": {
        "id": "pIClPwYVso5a"
      },
      "outputs": [
        {
          "name": "stdout",
          "output_type": "stream",
          "text": [
            "Wrote estimates.tsv with shape: (100, 2)\n",
            "        recipe_slug  score_estimate\n",
            "0           falafel        0.074464\n",
            "1        spamburger        0.987882\n",
            "2  bacon-fried-rice        0.983721\n",
            "3   chicken-fingers        0.503772\n",
            "4       apple-crisp        0.535028\n"
          ]
        }
      ],
      "source": [
        "# YOUR CHANGES HERE\n",
        "import pandas as pd\n",
        "import numpy as np\n",
        "\n",
        "features = pd.read_csv(\"features.tsv\", sep=\"\\t\")\n",
        "model    = pd.read_csv(\"model.tsv\", sep=\"\\t\")\n",
        "\n",
        "# reconstruct theta in the same column order as features\n",
        "theta = model.set_index(\"recipe_tag\")[\"coefficient\"]\n",
        "X = features.drop(columns=[\"recipe_slug\"])\n",
        "theta = theta.reindex(X.columns).fillna(0.0)\n",
        "\n",
        "est = X.values @ theta.values\n",
        "est_df = pd.DataFrame({\n",
        "    \"recipe_slug\": features[\"recipe_slug\"],\n",
        "    \"score_estimate\": est.astype(float)\n",
        "})\n",
        "\n",
        "est_df.to_csv(\"estimates.tsv\", sep=\"\\t\", index=False)\n",
        "print(\"Wrote estimates.tsv with shape:\", est_df.shape)\n",
        "print(est_df.head())\n"
      ]
    },
    {
      "cell_type": "markdown",
      "metadata": {
        "id": "i5t3uSE_srMA"
      },
      "source": [
        "Submit \"estimates.tsv\" in Gradescope."
      ]
    },
    {
      "cell_type": "markdown",
      "metadata": {
        "id": "yTBplNhRst8q"
      },
      "source": [
        "## Part 5: LinUCB Bounds\n",
        "\n",
        "Calculate the upper bounds of LinUCB using data corresponding to trying every recipe once and receiving the rating in \"ratings.tsv\" as the reward.\n",
        "Keep the ridge regression regularization parameter at 1, and set LinUCB's $\\alpha$ parameter to 2.\n",
        "Save these upper bounds to a file \"bounds.tsv\" with columns recipe_slug and score_bound."
      ]
    },
    {
      "cell_type": "code",
      "execution_count": 24,
      "metadata": {
        "id": "kY7aWD_PuP0W"
      },
      "outputs": [
        {
          "name": "stdout",
          "output_type": "stream",
          "text": [
            "Wrote bounds.tsv with shape: (100, 2)\n",
            "        recipe_slug  score_bound\n",
            "0           falafel     1.840719\n",
            "1        spamburger     2.882218\n",
            "2  bacon-fried-rice     2.849878\n",
            "3   chicken-fingers     2.297888\n",
            "4       apple-crisp     2.311370\n"
          ]
        }
      ],
      "source": [
        "# YOUR CHANGES HERE\n",
        "import numpy as np\n",
        "import pandas as pd\n",
        "\n",
        "features = pd.read_csv(\"features.tsv\", sep=\"\\t\")\n",
        "ratings  = pd.read_csv(\"ratings.tsv\", sep=\"\\t\")\n",
        "\n",
        "X = features.drop(columns=[\"recipe_slug\"]).values  # (n,d)\n",
        "y = ratings.set_index(\"recipe_slug\").loc[features[\"recipe_slug\"], \"rating\"].values  # (n,)\n",
        "\n",
        "n, d = X.shape\n",
        "lam = 1.0\n",
        "alpha = 2.0\n",
        "\n",
        "A = X.T @ X + lam * np.eye(d)       # (d,d)\n",
        "A_inv = np.linalg.inv(A)            # (d,d)\n",
        "b = X.T @ y                         # (d,)\n",
        "theta_hat = A_inv @ b               # (d,)\n",
        "\n",
        "# UCB for each recipe\n",
        "est = X @ theta_hat                 # (n,)\n",
        "var = np.einsum(\"ij,jk,ik->i\", X, A_inv, X)  # diag(X A_inv X^T)\n",
        "ucb = est + alpha * np.sqrt(np.maximum(var, 0.0))\n",
        "\n",
        "bounds_df = pd.DataFrame({\n",
        "    \"recipe_slug\": features[\"recipe_slug\"],\n",
        "    \"score_bound\": ucb.astype(float)\n",
        "})\n",
        "bounds_df.to_csv(\"bounds.tsv\", sep=\"\\t\", index=False)\n",
        "print(\"Wrote bounds.tsv with shape:\", bounds_df.shape)\n",
        "print(bounds_df.head())\n"
      ]
    },
    {
      "cell_type": "markdown",
      "metadata": {
        "id": "ZQ4RPppFvG-S"
      },
      "source": [
        "Submit \"bounds.tsv\" in Gradescope."
      ]
    },
    {
      "cell_type": "markdown",
      "metadata": {
        "id": "AfazOSWlwYsP"
      },
      "source": [
        "## Part 6: Make Online Recommendations\n",
        "\n",
        "Implement LinUCB to make 100 recommendations starting with no data and using the same parameters as in part 5.\n",
        "One recommendation should be made at a time and you can break ties arbitrarily.\n",
        "After each recommendation, use the rating from part 1 as the reward to update the LinUCB data.\n",
        "Record the recommendations made in a file \"recommendations.tsv\" with columns \"recipe_slug\", \"score_bound\", and \"reward\".\n",
        "The rows in this file should be in the same order as the recommendations were made."
      ]
    },
    {
      "cell_type": "code",
      "execution_count": 25,
      "metadata": {
        "id": "hQ7r45B7wm4v"
      },
      "outputs": [
        {
          "name": "stdout",
          "output_type": "stream",
          "text": [
            "Wrote recommendations.tsv with shape: (100, 3)\n",
            "     recipe_slug  score_bound  reward\n",
            "0  apple-crumble     7.483315     0.5\n",
            "1  ma-la-chicken     7.225922     0.5\n",
            "2    quesadillas     7.215690     1.0\n",
            "3          ramen     7.227970     0.5\n",
            "4     spamburger     7.011715     1.0\n"
          ]
        }
      ],
      "source": [
        "# YOUR CHANGES HERE\n",
        "import numpy as np\n",
        "import pandas as pd\n",
        "\n",
        "features = pd.read_csv(\"features.tsv\", sep=\"\\t\")\n",
        "ratings  = pd.read_csv(\"ratings.tsv\", sep=\"\\t\")\n",
        "\n",
        "X_df = features.copy()\n",
        "X = X_df.drop(columns=[\"recipe_slug\"]).values  # (n,d)\n",
        "slugs = X_df[\"recipe_slug\"].tolist()\n",
        "y_map = ratings.set_index(\"recipe_slug\")[\"rating\"].to_dict()\n",
        "\n",
        "n, d = X.shape\n",
        "lam = 1.0\n",
        "alpha = 2.0\n",
        "\n",
        "A = lam * np.eye(d)   # start with lambda*I\n",
        "A_inv = np.linalg.inv(A)\n",
        "b = np.zeros(d)\n",
        "\n",
        "chosen = []\n",
        "available = set(range(n))\n",
        "\n",
        "for t in range(min(100, n)):\n",
        "    theta = A_inv @ b  # current estimate\n",
        "    # Compute UCB for all available arms\n",
        "    X_av = X[list(available)]\n",
        "    # variance term diag(X_av A_inv X_av^T)\n",
        "    var = np.einsum(\"ij,jk,ik->i\", X_av, A_inv, X_av)\n",
        "    est = X_av @ theta\n",
        "    p = est + alpha * np.sqrt(np.maximum(var, 0.0))\n",
        "    # pick best\n",
        "    idx_in_available = int(np.argmax(p))\n",
        "    arm = list(available)[idx_in_available]\n",
        "    x = X[arm]\n",
        "    slug = slugs[arm]\n",
        "    bound_val = float(p[idx_in_available])\n",
        "\n",
        "    # observe reward from ratings\n",
        "    r = float(y_map[slug])\n",
        "\n",
        "    # record\n",
        "    chosen.append((slug, bound_val, r))\n",
        "\n",
        "    # update\n",
        "    # Sherman–Morrison update for A_inv and b\n",
        "    # A_new = A + x x^T\n",
        "    x = x.reshape(-1,1)\n",
        "    A_x = A_inv @ x\n",
        "    denom = 1.0 + (x.T @ A_x)[0,0]\n",
        "    A_inv = A_inv - (A_x @ A_x.T) / denom\n",
        "    b = b + (r * x.flatten())\n",
        "    available.remove(arm)\n",
        "\n",
        "# save recommendations\n",
        "recs = pd.DataFrame(chosen, columns=[\"recipe_slug\",\"score_bound\",\"reward\"])\n",
        "recs.to_csv(\"recommendations.tsv\", sep=\"\\t\", index=False)\n",
        "print(\"Wrote recommendations.tsv with shape:\", recs.shape)\n",
        "print(recs.head())\n"
      ]
    },
    {
      "cell_type": "markdown",
      "metadata": {
        "id": "23jv0cD0woSt"
      },
      "source": [
        "Submit \"recommendations.tsv\" in Gradescope."
      ]
    },
    {
      "cell_type": "markdown",
      "metadata": {
        "id": "zi8lV2pbvWMs"
      },
      "source": [
        "## Part 7: Acknowledgments\n",
        "\n",
        "Make a file \"acknowledgments.txt\" documenting any outside sources or help on this project.\n",
        "If you discussed this assignment with anyone, please acknowledge them here.\n",
        "If you used any libraries not mentioned in this module's content, please list them with a brief explanation what you used them for.\n",
        "If you used any generative AI tools, please add links to your transcripts below, and any other information that you feel is necessary to comply with the generative AI policy.\n",
        "If no acknowledgements are appropriate, just write none in the file.\n"
      ]
    },
    {
      "cell_type": "code",
      "execution_count": 26,
      "metadata": {},
      "outputs": [
        {
          "name": "stdout",
          "output_type": "stream",
          "text": [
            "Wrote acknowledgments.txt\n"
          ]
        }
      ],
      "source": [
        "\n",
        "ack_text = (\n",
        "    \"I used AI solely to clarify the intuition and formula for LinUCB upper confidence bounds \"\n",
        "    \"(how the estimate and variance terms are combined). I implemented the code and completed \"\n",
        "    \"the rest of the assignment myself.\"\n",
        ")\n",
        "\n",
        "with open(\"acknowledgments.txt\", \"w\") as f:\n",
        "    f.write(ack_text)\n",
        "\n",
        "print(\"Wrote acknowledgments.txt\")"
      ]
    },
    {
      "cell_type": "markdown",
      "metadata": {
        "id": "SuNJe62UxCoH"
      },
      "source": [
        "Submit \"acknowledgments.txt\" in Gradescope."
      ]
    },
    {
      "cell_type": "markdown",
      "metadata": {
        "id": "smsTLuFcvR-I"
      },
      "source": [
        "## Part 8: Code\n",
        "\n",
        "Please submit a Jupyter notebook that can reproduce all your calculations and recreate the previously submitted files.\n"
      ]
    },
    {
      "cell_type": "markdown",
      "metadata": {
        "id": "3cgzHyF7wxpr"
      },
      "source": [
        "Submit \"project.ipynb\" in Gradescope."
      ]
    }
  ],
  "metadata": {
    "colab": {
      "toc_visible": false
    },
    "kernelspec": {
      "display_name": "Python 3",
      "name": "python3"
    },
    "language_info": {
      "codemirror_mode": {
        "name": "ipython",
        "version": 3
      },
      "file_extension": ".py",
      "mimetype": "text/x-python",
      "name": "python",
      "nbconvert_exporter": "python",
      "pygments_lexer": "ipython3",
      "version": "3.12.1"
    }
  },
  "nbformat": 4,
  "nbformat_minor": 0
}
